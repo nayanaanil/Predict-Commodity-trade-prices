{
 "cells": [
  {
   "cell_type": "code",
   "execution_count": 394,
   "metadata": {
    "collapsed": true
   },
   "outputs": [],
   "source": [
    "import pandas as pd\n",
    "import numpy as n\n",
    "from datetime import datetime\n",
    "import matplotlib.pyplot as plt\n",
    "from sklearn.model_selection import train_test_split\n",
    "from sklearn.linear_model import LinearRegression\n",
    "from sklearn.model_selection import cross_val_score\n",
    "from sklearn.metrics import mean_squared_error"
   ]
  },
  {
   "cell_type": "markdown",
   "metadata": {},
   "source": [
    " Read the data from the CSV and manipulate the date column into datetime type. \n",
    " Also, sort the values in ascending order of date."
   ]
  },
  {
   "cell_type": "code",
   "execution_count": 395,
   "metadata": {
    "collapsed": false
   },
   "outputs": [
    {
     "name": "stdout",
     "output_type": "stream",
     "text": [
      "        Date  Close   Open   High    Low    Vol.\n",
      "0 1980-01-02  575.5  562.5  577.0  558.0   7.26K\n",
      "1 1980-01-03  625.0  627.0  640.0  603.0  20.75K\n",
      "2 1980-01-04  603.6  609.5  621.0  573.0   2.66K\n",
      "3 1980-01-07  627.0  629.0  635.0  611.0   3.00K\n",
      "4 1980-01-08  602.5  611.5  619.0  600.0   0.75K\n"
     ]
    }
   ],
   "source": [
    "df = pd.read_csv('goldprice.csv', thousands=',')\n",
    "df['Date'] = pd.to_datetime(df['Date'])\n",
    "df.sort_values(by='Date', ascending=True, inplace=True)\n",
    "print(df.head())"
   ]
  },
  {
   "cell_type": "markdown",
   "metadata": {},
   "source": [
    "Modify the Vol. column to accurately depict data contained. Convert all columns to numeric type"
   ]
  },
  {
   "cell_type": "code",
   "execution_count": 396,
   "metadata": {
    "collapsed": false
   },
   "outputs": [
    {
     "data": {
      "text/plain": [
       "0        558.00\n",
       "1        603.00\n",
       "2        573.00\n",
       "3        611.00\n",
       "4        600.00\n",
       "5        595.00\n",
       "6        592.00\n",
       "7        615.00\n",
       "8        650.00\n",
       "9        675.00\n",
       "10       738.00\n",
       "11       715.00\n",
       "12       805.00\n",
       "13       812.00\n",
       "14       679.00\n",
       "15       650.00\n",
       "16       668.00\n",
       "17       630.00\n",
       "18       606.00\n",
       "19       664.00\n",
       "20       654.00\n",
       "21       638.00\n",
       "22       666.00\n",
       "23       659.00\n",
       "24       667.00\n",
       "25       705.00\n",
       "26       685.00\n",
       "27       688.50\n",
       "28       702.00\n",
       "29       689.00\n",
       "         ...   \n",
       "9523    1330.60\n",
       "9524    1326.70\n",
       "9525    1324.50\n",
       "9526    1319.50\n",
       "9527    1323.00\n",
       "9528    1308.10\n",
       "9529    1308.70\n",
       "9530    1299.50\n",
       "9531    1291.20\n",
       "9532    1294.10\n",
       "9533    1291.70\n",
       "9534    1295.00\n",
       "9535    1284.10\n",
       "9536    1280.40\n",
       "9537    1278.20\n",
       "9538    1272.00\n",
       "9539    1271.00\n",
       "9540    1273.10\n",
       "9541    1268.50\n",
       "9542    1262.80\n",
       "9543    1277.70\n",
       "9544    1284.60\n",
       "9545    1286.80\n",
       "9546    1291.80\n",
       "9547    1292.90\n",
       "9548    1292.50\n",
       "9549    1283.20\n",
       "9550    1278.60\n",
       "9551    1277.60\n",
       "9552    1281.66\n",
       "Name: Low, dtype: float64"
      ]
     },
     "execution_count": 396,
     "metadata": {},
     "output_type": "execute_result"
    }
   ],
   "source": [
    "df['Vol.'] = df['Vol.'].str.replace('K','')\n",
    "df['Vol.'] = pd.to_numeric(df['Vol.'],downcast='float').map(lambda x: x*1000).round(1)\n",
    "pd.to_numeric(df['Close'])\n",
    "pd.to_numeric(df['Open'])\n",
    "pd.to_numeric(df['High'])\n",
    "pd.to_numeric(df['Low'])"
   ]
  },
  {
   "cell_type": "code",
   "execution_count": 397,
   "metadata": {
    "collapsed": false
   },
   "outputs": [
    {
     "data": {
      "image/png": "[encoded data removed]",
      "text/plain": [
       "<matplotlib.figure.Figure at 0x1df021fc7f0>"
      ]
     },
     "metadata": {},
     "output_type": "display_data"
    }
   ],
   "source": [
    "plt.plot(df['Date'], df['Close'], color = 'blue')\n",
    "plt.title('Correlation between Closing Price and Date')\n",
    "plt.xlabel('Date')\n",
    "plt.ylabel('Closing price')\n",
    "plt.show()"
   ]
  },
  {
   "cell_type": "markdown",
   "metadata": {},
   "source": [
    "We don't see much correlation between Date and Closing Price. So, it becomes difficult to predict the Closing price based on the Date. Also, being event data, each row isn't independent of the other, which means they can't be treated that way. To acknowledge this type of sequential data, we create new features that would (hopefully) introduce a correlation between Date and the closing price. For instance, here we introduce a rolling average of the closing price over 5, 30 and 365 days"
   ]
  },
  {
   "cell_type": "code",
   "execution_count": 398,
   "metadata": {
    "collapsed": false
   },
   "outputs": [],
   "source": [
    "df['avg_5'] = df['Close'].rolling(window=5).mean().round(2).shift(1)\n",
    "df['avg_30'] = df['Close'].rolling(window=30).mean().round(2).shift(1)\n",
    "df['avg_365'] = df['Close'].rolling(window=365).mean().round(2).shift(1)"
   ]
  },
  {
   "cell_type": "code",
   "execution_count": 399,
   "metadata": {
    "collapsed": false
   },
   "outputs": [],
   "source": [
    "#Drop rows that have a value 'NaN' (created from calculating 365 day averages)\n",
    "df = df[df[\"Date\"] > datetime(year=1981, month=6, day=14)]\n",
    "df.dropna(axis = 0, inplace = True)"
   ]
  },
  {
   "cell_type": "code",
   "execution_count": null,
   "metadata": {
    "collapsed": false
   },
   "outputs": [],
   "source": [
    "plt.plot(df['avg_5'], df['Close'], color = 'red', label='5 day avg')\n",
    "plt.plot(df['avg_30'], df['Close'], color = 'green', label='30 day avg')\n",
    "plt.plot(df['avg_365'], df['Close'], color = 'yellow', label='365 day avg')\n",
    "plt.title('Correlation between Averages and Date')\n",
    "plt.xlabel('Date')\n",
    "plt.ylabel('Closing price Averages')\n",
    "plt.legend(loc='lower center')\n",
    "plt.show()"
   ]
  },
  {
   "cell_type": "markdown",
   "metadata": {},
   "source": [
    "As expected, a linear correlation is created between Date and the avg closing price values. This should facilitate a Linear regression model to make predictions."
   ]
  },
  {
   "cell_type": "code",
   "execution_count": 392,
   "metadata": {
    "collapsed": false
   },
   "outputs": [],
   "source": [
    "X = df[['avg_5','avg_30','avg_365']]\n",
    "y = df['Close']\n",
    "\n",
    "#X_train, X_test, y_train, y_test = train_test_split(X, y, test_size = 0.2, random_state=42)\n",
    "#reg_all.fit(X_train, y_train)\n",
    "#y_pred = reg_all.predict(X_test)\n",
    "reg_all = LinearRegression()\n",
    "cv_scores = cross_val_score(reg_all, X, y, cv=5)"
   ]
  },
  {
   "cell_type": "code",
   "execution_count": 393,
   "metadata": {
    "collapsed": false
   },
   "outputs": [
    {
     "name": "stdout",
     "output_type": "stream",
     "text": [
      "[ 0.97655462  0.96302946  0.99045163  0.99685184  0.98718722]\n",
      "Average 5-Fold CV Score: 0.9828149517577481\n"
     ]
    }
   ],
   "source": [
    "#print(\"R^2: {}\".format(reg_all.score(X_test, y_test)))\n",
    "#rmse = np.sqrt(mean_squared_error(y_test, y_pred))\n",
    "#print(\"Root Mean Squared Error: {}\".format(rmse))\n",
    "print(cv_scores)\n",
    "print(\"Average 5-Fold CV Score: {}\".format(np.mean(cv_scores)))"
   ]
  },
  {
   "cell_type": "markdown",
   "metadata": {},
   "source": [
    "The Linear regression model has an accuracy of 98% which is pretty high! As a baseline model we can stop here, but this is \n",
    "nowhere near the end of it. We'll need to dive further into whether this model would work on unseen data, and be able to produce \n",
    "accurate results. We may need to add/modify some features along the way, finding new correlations between them and applying\n",
    "feature selection to the features that really matter."
   ]
  },
  {
   "cell_type": "markdown",
   "metadata": {},
   "source": [
    "References : Previous projects, classes, courses taken on Datacamp\n",
    "Dataset from : https://www.investing.com/commodities/gold"
   ]
  },
  {
   "cell_type": "code",
   "execution_count": null,
   "metadata": {
    "collapsed": true
   },
   "outputs": [],
   "source": []
  }
 ],
 "metadata": {
  "kernelspec": {
   "display_name": "Python 3",
   "language": "python",
   "name": "python3"
  },
  "language_info": {
   "codemirror_mode": {
    "name": "ipython",
    "version": 3
   },
   "file_extension": ".py",
   "mimetype": "text/x-python",
   "name": "python",
   "nbconvert_exporter": "python",
   "pygments_lexer": "ipython3",
   "version": "3.6.0"
  }
 },
 "nbformat": 4,
 "nbformat_minor": 2
}
